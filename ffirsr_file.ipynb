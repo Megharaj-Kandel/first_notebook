{
 "cells": [
  {
   "cell_type": "code",
   "execution_count": 1,
   "id": "fc488afe",
   "metadata": {},
   "outputs": [],
   "source": [
    "import pandas as pd\n",
    "import numpy as np\n",
    "import matplotlib.pyplot as plt\n",
    "\n",
    "import os   \n",
    "import sys\n",
    "import warnings"
   ]
  },
  {
   "cell_type": "code",
   "execution_count": 2,
   "id": "795b3fbb",
   "metadata": {},
   "outputs": [
    {
     "name": "stdout",
     "output_type": "stream",
     "text": [
      "Requirement already satisfied: seaborn in c:\\github\\python-anaconda\\envs\\pycaret-env\\lib\\site-packages (0.13.2)\n",
      "Requirement already satisfied: numpy!=1.24.0,>=1.20 in c:\\github\\python-anaconda\\envs\\pycaret-env\\lib\\site-packages (from seaborn) (1.26.4)\n",
      "Requirement already satisfied: pandas>=1.2 in c:\\github\\python-anaconda\\envs\\pycaret-env\\lib\\site-packages (from seaborn) (2.1.4)\n",
      "Requirement already satisfied: matplotlib!=3.6.1,>=3.4 in c:\\github\\python-anaconda\\envs\\pycaret-env\\lib\\site-packages (from seaborn) (3.10.1)\n",
      "Requirement already satisfied: contourpy>=1.0.1 in c:\\github\\python-anaconda\\envs\\pycaret-env\\lib\\site-packages (from matplotlib!=3.6.1,>=3.4->seaborn) (1.3.2)\n",
      "Requirement already satisfied: cycler>=0.10 in c:\\github\\python-anaconda\\envs\\pycaret-env\\lib\\site-packages (from matplotlib!=3.6.1,>=3.4->seaborn) (0.12.1)\n",
      "Requirement already satisfied: fonttools>=4.22.0 in c:\\github\\python-anaconda\\envs\\pycaret-env\\lib\\site-packages (from matplotlib!=3.6.1,>=3.4->seaborn) (4.59.0)\n",
      "Requirement already satisfied: kiwisolver>=1.3.1 in c:\\github\\python-anaconda\\envs\\pycaret-env\\lib\\site-packages (from matplotlib!=3.6.1,>=3.4->seaborn) (1.4.8)\n",
      "Requirement already satisfied: packaging>=20.0 in c:\\github\\python-anaconda\\envs\\pycaret-env\\lib\\site-packages (from matplotlib!=3.6.1,>=3.4->seaborn) (25.0)\n",
      "Requirement already satisfied: pillow>=8 in c:\\github\\python-anaconda\\envs\\pycaret-env\\lib\\site-packages (from matplotlib!=3.6.1,>=3.4->seaborn) (11.3.0)\n",
      "Requirement already satisfied: pyparsing>=2.3.1 in c:\\github\\python-anaconda\\envs\\pycaret-env\\lib\\site-packages (from matplotlib!=3.6.1,>=3.4->seaborn) (3.2.3)\n",
      "Requirement already satisfied: python-dateutil>=2.7 in c:\\github\\python-anaconda\\envs\\pycaret-env\\lib\\site-packages (from matplotlib!=3.6.1,>=3.4->seaborn) (2.9.0.post0)\n",
      "Requirement already satisfied: pytz>=2020.1 in c:\\github\\python-anaconda\\envs\\pycaret-env\\lib\\site-packages (from pandas>=1.2->seaborn) (2025.2)\n",
      "Requirement already satisfied: tzdata>=2022.1 in c:\\github\\python-anaconda\\envs\\pycaret-env\\lib\\site-packages (from pandas>=1.2->seaborn) (2025.2)\n",
      "Requirement already satisfied: six>=1.5 in c:\\github\\python-anaconda\\envs\\pycaret-env\\lib\\site-packages (from python-dateutil>=2.7->matplotlib!=3.6.1,>=3.4->seaborn) (1.17.0)\n"
     ]
    }
   ],
   "source": [
    "\n",
    "! pip install seaborn\n",
    "import seaborn as sns"
   ]
  },
  {
   "cell_type": "code",
   "execution_count": 3,
   "id": "7d92ea98",
   "metadata": {},
   "outputs": [
    {
     "data": {
      "text/html": [
       "<div>\n",
       "<style scoped>\n",
       "    .dataframe tbody tr th:only-of-type {\n",
       "        vertical-align: middle;\n",
       "    }\n",
       "\n",
       "    .dataframe tbody tr th {\n",
       "        vertical-align: top;\n",
       "    }\n",
       "\n",
       "    .dataframe thead th {\n",
       "        text-align: right;\n",
       "    }\n",
       "</style>\n",
       "<table border=\"1\" class=\"dataframe\">\n",
       "  <thead>\n",
       "    <tr style=\"text-align: right;\">\n",
       "      <th></th>\n",
       "      <th>Date</th>\n",
       "      <th>Product Name</th>\n",
       "      <th>Product Type</th>\n",
       "      <th>Brand</th>\n",
       "      <th>Gender</th>\n",
       "      <th>Category</th>\n",
       "      <th>Country</th>\n",
       "      <th>Quantity</th>\n",
       "      <th>Unit Price ($)</th>\n",
       "      <th>Amount ($)</th>\n",
       "      <th>Payment Mode</th>\n",
       "    </tr>\n",
       "  </thead>\n",
       "  <tbody>\n",
       "    <tr>\n",
       "      <th>0</th>\n",
       "      <td>2022-05-27</td>\n",
       "      <td>Fear of God Essentials Tee</td>\n",
       "      <td>T-shirt</td>\n",
       "      <td>Essentials</td>\n",
       "      <td>Unisex</td>\n",
       "      <td>Limited Edition</td>\n",
       "      <td>Japan</td>\n",
       "      <td>5</td>\n",
       "      <td>141.82</td>\n",
       "      <td>709.10</td>\n",
       "      <td>Card</td>\n",
       "    </tr>\n",
       "    <tr>\n",
       "      <th>1</th>\n",
       "      <td>2022-08-22</td>\n",
       "      <td>Yeezy Boost 350</td>\n",
       "      <td>Sneakers</td>\n",
       "      <td>Adidas</td>\n",
       "      <td>Unisex</td>\n",
       "      <td>Streetwear</td>\n",
       "      <td>USA</td>\n",
       "      <td>2</td>\n",
       "      <td>267.34</td>\n",
       "      <td>534.68</td>\n",
       "      <td>Cash on Delivery</td>\n",
       "    </tr>\n",
       "    <tr>\n",
       "      <th>2</th>\n",
       "      <td>2022-04-03</td>\n",
       "      <td>Nike Dunk Low</td>\n",
       "      <td>Sneakers</td>\n",
       "      <td>Nike</td>\n",
       "      <td>Women</td>\n",
       "      <td>Limited Edition</td>\n",
       "      <td>Germany</td>\n",
       "      <td>1</td>\n",
       "      <td>292.00</td>\n",
       "      <td>292.00</td>\n",
       "      <td>Cash on Delivery</td>\n",
       "    </tr>\n",
       "    <tr>\n",
       "      <th>3</th>\n",
       "      <td>2022-07-13</td>\n",
       "      <td>Nike Tech Fleece</td>\n",
       "      <td>Hoodie</td>\n",
       "      <td>Nike</td>\n",
       "      <td>Men</td>\n",
       "      <td>Limited Edition</td>\n",
       "      <td>USA</td>\n",
       "      <td>4</td>\n",
       "      <td>245.44</td>\n",
       "      <td>981.76</td>\n",
       "      <td>Cash on Delivery</td>\n",
       "    </tr>\n",
       "    <tr>\n",
       "      <th>4</th>\n",
       "      <td>2022-08-25</td>\n",
       "      <td>Jordan 1 High</td>\n",
       "      <td>Sneakers</td>\n",
       "      <td>Nike</td>\n",
       "      <td>Women</td>\n",
       "      <td>Casual</td>\n",
       "      <td>Australia</td>\n",
       "      <td>2</td>\n",
       "      <td>184.51</td>\n",
       "      <td>369.02</td>\n",
       "      <td>Cash on Delivery</td>\n",
       "    </tr>\n",
       "  </tbody>\n",
       "</table>\n",
       "</div>"
      ],
      "text/plain": [
       "         Date                Product Name Product Type       Brand  Gender  \\\n",
       "0  2022-05-27  Fear of God Essentials Tee      T-shirt  Essentials  Unisex   \n",
       "1  2022-08-22             Yeezy Boost 350     Sneakers      Adidas  Unisex   \n",
       "2  2022-04-03               Nike Dunk Low     Sneakers        Nike   Women   \n",
       "3  2022-07-13            Nike Tech Fleece       Hoodie        Nike     Men   \n",
       "4  2022-08-25               Jordan 1 High     Sneakers        Nike   Women   \n",
       "\n",
       "          Category    Country  Quantity  Unit Price ($)  Amount ($)  \\\n",
       "0  Limited Edition      Japan         5          141.82      709.10   \n",
       "1       Streetwear        USA         2          267.34      534.68   \n",
       "2  Limited Edition    Germany         1          292.00      292.00   \n",
       "3  Limited Edition        USA         4          245.44      981.76   \n",
       "4           Casual  Australia         2          184.51      369.02   \n",
       "\n",
       "       Payment Mode  \n",
       "0              Card  \n",
       "1  Cash on Delivery  \n",
       "2  Cash on Delivery  \n",
       "3  Cash on Delivery  \n",
       "4  Cash on Delivery  "
      ]
     },
     "execution_count": 3,
     "metadata": {},
     "output_type": "execute_result"
    }
   ],
   "source": [
    "df = pd.read_csv('sneakers_streetwear_sales_data.csv')\n",
    "df.head()"
   ]
  },
  {
   "cell_type": "code",
   "execution_count": 4,
   "id": "c7546446",
   "metadata": {},
   "outputs": [
    {
     "name": "stdout",
     "output_type": "stream",
     "text": [
      "<class 'pandas.core.frame.DataFrame'>\n",
      "RangeIndex: 353 entries, 0 to 352\n",
      "Data columns (total 11 columns):\n",
      " #   Column          Non-Null Count  Dtype  \n",
      "---  ------          --------------  -----  \n",
      " 0   Date            353 non-null    object \n",
      " 1   Product Name    353 non-null    object \n",
      " 2   Product Type    353 non-null    object \n",
      " 3   Brand           353 non-null    object \n",
      " 4   Gender          353 non-null    object \n",
      " 5   Category        353 non-null    object \n",
      " 6   Country         353 non-null    object \n",
      " 7   Quantity        353 non-null    int64  \n",
      " 8   Unit Price ($)  353 non-null    float64\n",
      " 9   Amount ($)      353 non-null    float64\n",
      " 10  Payment Mode    353 non-null    object \n",
      "dtypes: float64(2), int64(1), object(8)\n",
      "memory usage: 30.5+ KB\n"
     ]
    }
   ],
   "source": [
    "df.info()"
   ]
  },
  {
   "cell_type": "code",
   "execution_count": 5,
   "id": "1d3661ee",
   "metadata": {},
   "outputs": [
    {
     "data": {
      "text/html": [
       "<div>\n",
       "<style scoped>\n",
       "    .dataframe tbody tr th:only-of-type {\n",
       "        vertical-align: middle;\n",
       "    }\n",
       "\n",
       "    .dataframe tbody tr th {\n",
       "        vertical-align: top;\n",
       "    }\n",
       "\n",
       "    .dataframe thead th {\n",
       "        text-align: right;\n",
       "    }\n",
       "</style>\n",
       "<table border=\"1\" class=\"dataframe\">\n",
       "  <thead>\n",
       "    <tr style=\"text-align: right;\">\n",
       "      <th></th>\n",
       "      <th>Quantity</th>\n",
       "      <th>Unit Price ($)</th>\n",
       "      <th>Amount ($)</th>\n",
       "    </tr>\n",
       "  </thead>\n",
       "  <tbody>\n",
       "    <tr>\n",
       "      <th>count</th>\n",
       "      <td>353.000000</td>\n",
       "      <td>353.000000</td>\n",
       "      <td>353.000000</td>\n",
       "    </tr>\n",
       "    <tr>\n",
       "      <th>mean</th>\n",
       "      <td>3.107649</td>\n",
       "      <td>174.607054</td>\n",
       "      <td>547.034193</td>\n",
       "    </tr>\n",
       "    <tr>\n",
       "      <th>std</th>\n",
       "      <td>1.408083</td>\n",
       "      <td>71.625710</td>\n",
       "      <td>343.084461</td>\n",
       "    </tr>\n",
       "    <tr>\n",
       "      <th>min</th>\n",
       "      <td>1.000000</td>\n",
       "      <td>50.100000</td>\n",
       "      <td>50.100000</td>\n",
       "    </tr>\n",
       "    <tr>\n",
       "      <th>25%</th>\n",
       "      <td>2.000000</td>\n",
       "      <td>113.750000</td>\n",
       "      <td>268.780000</td>\n",
       "    </tr>\n",
       "    <tr>\n",
       "      <th>50%</th>\n",
       "      <td>3.000000</td>\n",
       "      <td>175.510000</td>\n",
       "      <td>494.400000</td>\n",
       "    </tr>\n",
       "    <tr>\n",
       "      <th>75%</th>\n",
       "      <td>4.000000</td>\n",
       "      <td>235.500000</td>\n",
       "      <td>783.930000</td>\n",
       "    </tr>\n",
       "    <tr>\n",
       "      <th>max</th>\n",
       "      <td>5.000000</td>\n",
       "      <td>299.730000</td>\n",
       "      <td>1496.500000</td>\n",
       "    </tr>\n",
       "  </tbody>\n",
       "</table>\n",
       "</div>"
      ],
      "text/plain": [
       "         Quantity  Unit Price ($)   Amount ($)\n",
       "count  353.000000      353.000000   353.000000\n",
       "mean     3.107649      174.607054   547.034193\n",
       "std      1.408083       71.625710   343.084461\n",
       "min      1.000000       50.100000    50.100000\n",
       "25%      2.000000      113.750000   268.780000\n",
       "50%      3.000000      175.510000   494.400000\n",
       "75%      4.000000      235.500000   783.930000\n",
       "max      5.000000      299.730000  1496.500000"
      ]
     },
     "execution_count": 5,
     "metadata": {},
     "output_type": "execute_result"
    }
   ],
   "source": [
    "df.describe()"
   ]
  },
  {
   "cell_type": "code",
   "execution_count": 6,
   "id": "e6e4a78a",
   "metadata": {},
   "outputs": [
    {
     "data": {
      "text/plain": [
       "Date              0\n",
       "Product Name      0\n",
       "Product Type      0\n",
       "Brand             0\n",
       "Gender            0\n",
       "Category          0\n",
       "Country           0\n",
       "Quantity          0\n",
       "Unit Price ($)    0\n",
       "Amount ($)        0\n",
       "Payment Mode      0\n",
       "dtype: int64"
      ]
     },
     "execution_count": 6,
     "metadata": {},
     "output_type": "execute_result"
    }
   ],
   "source": [
    "df.isnull().sum()"
   ]
  },
  {
   "cell_type": "code",
   "execution_count": 7,
   "id": "dbc59f43",
   "metadata": {},
   "outputs": [
    {
     "data": {
      "text/plain": [
       "0      2022\n",
       "1      2022\n",
       "2      2022\n",
       "3      2022\n",
       "4      2022\n",
       "       ... \n",
       "348    2022\n",
       "349    2022\n",
       "350    2022\n",
       "351    2022\n",
       "352    2022\n",
       "Name: Date, Length: 353, dtype: int32"
      ]
     },
     "execution_count": 7,
     "metadata": {},
     "output_type": "execute_result"
    }
   ],
   "source": [
    "df['Date'] = pd.to_datetime(df['Date'])\n",
    "df['Date'].dt.year"
   ]
  },
  {
   "cell_type": "code",
   "execution_count": 8,
   "id": "3b2851f0",
   "metadata": {},
   "outputs": [
    {
     "name": "stdout",
     "output_type": "stream",
     "text": [
      "Total Sales: $193,103.07\n"
     ]
    }
   ],
   "source": [
    "#Total revenue made by the company\n",
    "total_sales= df['Amount ($)'].sum()\n",
    "print(f'Total Sales: ${total_sales:,.2f}')"
   ]
  },
  {
   "cell_type": "code",
   "execution_count": 9,
   "id": "8a9f2b78",
   "metadata": {},
   "outputs": [
    {
     "name": "stdout",
     "output_type": "stream",
     "text": [
      "Product Name\n",
      "Off-White Hoodie              143\n",
      "Nike Tech Fleece              140\n",
      "Yeezy Boost 350               119\n",
      "Puma Joggers                  116\n",
      "Jordan 1 High                 113\n",
      "Nike Dunk Low                 112\n",
      "Supreme Hoodie                 95\n",
      "Adidas Ultraboost              91\n",
      "New Era Cap                    88\n",
      "Fear of God Essentials Tee     80\n",
      "Name: Quantity, dtype: int64\n"
     ]
    }
   ],
   "source": [
    "#Most sold Product\n",
    "most_sold = df.groupby('Product Name')['Quantity'].sum().sort_values(ascending=False)\n",
    "print(most_sold)\n",
    "\n"
   ]
  },
  {
   "cell_type": "code",
   "execution_count": 10,
   "id": "aa86c834",
   "metadata": {},
   "outputs": [
    {
     "name": "stdout",
     "output_type": "stream",
     "text": [
      "Country\n",
      "Japan        31587.39\n",
      "Canada       30851.19\n",
      "Germany      29822.89\n",
      "UK           29739.25\n",
      "USA          26095.59\n",
      "Australia    24094.02\n",
      "India        20912.74\n",
      "Name: Amount ($), dtype: float64\n"
     ]
    }
   ],
   "source": [
    "# Sales by Country \n",
    "sales_by_country = df.groupby('Country')['Amount ($)'].sum().sort_values(ascending=False)\n",
    "print(sales_by_country)\n"
   ]
  },
  {
   "cell_type": "code",
   "execution_count": 11,
   "id": "081d7cf4",
   "metadata": {},
   "outputs": [
    {
     "name": "stdout",
     "output_type": "stream",
     "text": [
      "Payment Mode\n",
      "Cash on Delivery    102\n",
      "Card                 89\n",
      "Wallet               89\n",
      "UPI                  73\n",
      "Name: count, dtype: int64\n"
     ]
    }
   ],
   "source": [
    "# Popular Payment Methods\n",
    "popular_payment_methods = df['Payment Mode'].value_counts()\n",
    "print(popular_payment_methods)"
   ]
  },
  {
   "cell_type": "code",
   "execution_count": 12,
   "id": "3a8bbc06",
   "metadata": {},
   "outputs": [
    {
     "data": {
      "image/png": "[encoded data removed]",
      "text/plain": [
       "<Figure size 640x480 with 1 Axes>"
      ]
     },
     "metadata": {},
     "output_type": "display_data"
    },
    {
     "name": "stderr",
     "output_type": "stream",
     "text": [
      "C:\\Users\\kndll\\AppData\\Local\\Temp\\ipykernel_14304\\3129354358.py:11: FutureWarning: \n",
      "\n",
      "Passing `palette` without assigning `hue` is deprecated and will be removed in v0.14.0. Assign the `x` variable to `hue` and set `legend=False` for the same effect.\n",
      "\n",
      "  sns.boxplot(data=df, x='Gender', y='Amount ($)', palette='coolwarm')\n"
     ]
    },
    {
     "data": {
      "image/png": "[encoded data removed]",
      "text/plain": [
       "<Figure size 640x480 with 1 Axes>"
      ]
     },
     "metadata": {},
     "output_type": "display_data"
    }
   ],
   "source": [
    "# Visuallzing insights\n",
    "\n",
    "\n",
    "# Top 5 selling products\n",
    "top_products = df.groupby('Product Name')['Amount ($)'].sum().sort_values(ascending=False).head(5)\n",
    "top_products.plot(kind='barh', title='Top 5 Products by Sales', colormap='viridis')\n",
    "plt.xlabel(\"Total Sales ($)\")\n",
    "plt.show()\n",
    "\n",
    "# Sales by Gender\n",
    "sns.boxplot(data=df, x='Gender', y='Amount ($)', palette='coolwarm')\n",
    "plt.title('Sales Amount by Gender')\n",
    "plt.show()\n"
   ]
  },
  {
   "cell_type": "markdown",
   "id": "0c00f977",
   "metadata": {},
   "source": []
  },
  {
   "cell_type": "code",
   "execution_count": 13,
   "id": "1c553b64",
   "metadata": {},
   "outputs": [
    {
     "data": {
      "image/png": "[encoded data removed]",
      "text/plain": [
       "<Figure size 640x480 with 1 Axes>"
      ]
     },
     "metadata": {},
     "output_type": "display_data"
    }
   ],
   "source": [
    "total_by_gender = df.groupby('Gender')['Amount ($)'].sum()\n",
    "total_by_gender.plot(kind='bar')\n",
    "plt.ylabel('Total Sales ($)')\n",
    "plt.show()"
   ]
  },
  {
   "cell_type": "code",
   "execution_count": 14,
   "id": "36bcd155",
   "metadata": {},
   "outputs": [],
   "source": [
    "from sklearn.model_selection import train_test_split\n",
    "from sklearn.preprocessing import OneHotEncoder\n",
    "features = df[['Quantity', 'Unit Price ($)', 'Gender', 'Brand']]\n",
    "target = df['Amount ($)']\n",
    "features_encoded = pd.get_dummies(features, columns=['Gender', 'Brand'])"
   ]
  },
  {
   "cell_type": "code",
   "execution_count": 15,
   "id": "5200f40d",
   "metadata": {},
   "outputs": [],
   "source": [
    "X_train, X_test, y_train, y_test = train_test_split(features_encoded, target, test_size=0.2, random_state=42)"
   ]
  },
  {
   "cell_type": "markdown",
   "id": "6fe50ecd",
   "metadata": {},
   "source": []
  },
  {
   "cell_type": "code",
   "execution_count": 16,
   "id": "a22ebcb9",
   "metadata": {},
   "outputs": [],
   "source": [
    "from sklearn.linear_model import LinearRegression\n",
    "from sklearn.metrics import mean_squared_error, r2_score"
   ]
  },
  {
   "cell_type": "code",
   "execution_count": 17,
   "id": "c6287205",
   "metadata": {},
   "outputs": [
    {
     "name": "stdout",
     "output_type": "stream",
     "text": [
      "Mean Squared Error: 11816.57\n",
      "R^2 Score: 0.90\n"
     ]
    }
   ],
   "source": [
    "model = LinearRegression()\n",
    "\n",
    "# Train\n",
    "model.fit(X_train, y_train)\n",
    "\n",
    "# Predict\n",
    "y_pred = model.predict(X_test)\n",
    "\n",
    "# Evaluate\n",
    "mse = mean_squared_error(y_test, y_pred)\n",
    "r2 = r2_score(y_test, y_pred)\n",
    "print(f'Mean Squared Error: {mse:.2f}')\n",
    "print(f'R^2 Score: {r2:.2f}')"
   ]
  },
  {
   "cell_type": "code",
   "execution_count": 18,
   "id": "ecfab6e8",
   "metadata": {},
   "outputs": [
    {
     "data": {
      "image/png": "[encoded data removed]",
      "text/plain": [
       "<Figure size 800x600 with 1 Axes>"
      ]
     },
     "metadata": {},
     "output_type": "display_data"
    }
   ],
   "source": [
    "plt.figure(figsize=(8,6))\n",
    "plt.scatter(y_test, y_pred, color='blue', alpha=0.6)\n",
    "plt.plot([y_test.min(), y_test.max()], [y_test.min(), y_test.max()], 'r--')  # 45-degree line\n",
    "\n",
    "plt.xlabel('Actual Amount ($)')\n",
    "plt.ylabel('Predicted Amount ($)')\n",
    "plt.title('Actual vs Predicted Sales Amount')\n",
    "plt.show()"
   ]
  },
  {
   "cell_type": "code",
   "execution_count": 19,
   "id": "18c6f365",
   "metadata": {},
   "outputs": [
    {
     "name": "stdout",
     "output_type": "stream",
     "text": [
      "Requirement already satisfied: xgboost in c:\\github\\python-anaconda\\envs\\pycaret-env\\lib\\site-packages (3.0.3)\n",
      "Requirement already satisfied: numpy in c:\\github\\python-anaconda\\envs\\pycaret-env\\lib\\site-packages (from xgboost) (1.26.4)\n",
      "Requirement already satisfied: scipy in c:\\github\\python-anaconda\\envs\\pycaret-env\\lib\\site-packages (from xgboost) (1.11.4)\n"
     ]
    }
   ],
   "source": [
    "! pip install xgboost\n",
    "from xgboost import XGBRegressor # type: ignore\n"
   ]
  },
  {
   "cell_type": "code",
   "execution_count": 20,
   "id": "1b778681",
   "metadata": {},
   "outputs": [],
   "source": [
    "from sklearn.tree import DecisionTreeRegressor\n",
    "from sklearn.ensemble import RandomForestRegressor\n",
    "from sklearn.ensemble import AdaBoostRegressor\n",
    "from sklearn.ensemble import GradientBoostingRegressor\n",
    "!"
   ]
  },
  {
   "cell_type": "code",
   "execution_count": 21,
   "id": "95cc78a8",
   "metadata": {},
   "outputs": [],
   "source": [
    "rf=RandomForestRegressor()\n",
    "dt=DecisionTreeRegressor()\n",
    "ada=AdaBoostRegressor()\n",
    "gb=GradientBoostingRegressor()\n",
    "xg=XGBRegressor()"
   ]
  },
  {
   "cell_type": "code",
   "execution_count": 22,
   "id": "4d344bb4",
   "metadata": {},
   "outputs": [],
   "source": [
    "models=[rf,dt,ada,gb,xg]"
   ]
  },
  {
   "cell_type": "code",
   "execution_count": 23,
   "id": "febbe7f9",
   "metadata": {},
   "outputs": [],
   "source": [
    "def modelTrainingAndEvalution(model):\n",
    "  model.fit(X_train,y_train)\n",
    "  y_predict=model.predict(X_test)\n",
    "  accuracy=r2_score(y_predict,y_test)\n",
    "  print(f'The accuracy of {model} is {accuracy}')"
   ]
  },
  {
   "cell_type": "code",
   "execution_count": 24,
   "id": "94bf94cf",
   "metadata": {},
   "outputs": [
    {
     "name": "stdout",
     "output_type": "stream",
     "text": [
      "The accuracy of RandomForestRegressor() is 0.9985201610872338\n",
      "The accuracy of DecisionTreeRegressor() is 0.9975438999270959\n",
      "The accuracy of AdaBoostRegressor() is 0.9541877907440479\n",
      "The accuracy of GradientBoostingRegressor() is 0.9981956514016315\n",
      "The accuracy of XGBRegressor(base_score=None, booster=None, callbacks=None,\n",
      "             colsample_bylevel=None, colsample_bynode=None,\n",
      "             colsample_bytree=None, device=None, early_stopping_rounds=None,\n",
      "             enable_categorical=False, eval_metric=None, feature_types=None,\n",
      "             feature_weights=None, gamma=None, grow_policy=None,\n",
      "             importance_type=None, interaction_constraints=None,\n",
      "             learning_rate=None, max_bin=None, max_cat_threshold=None,\n",
      "             max_cat_to_onehot=None, max_delta_step=None, max_depth=None,\n",
      "             max_leaves=None, min_child_weight=None, missing=nan,\n",
      "             monotone_constraints=None, multi_strategy=None, n_estimators=None,\n",
      "             n_jobs=None, num_parallel_tree=None, ...) is 0.9985367447552969\n"
     ]
    }
   ],
   "source": [
    "for i in models:\n",
    "  modelTrainingAndEvalution(i)"
   ]
  },
  {
   "cell_type": "code",
   "execution_count": null,
   "id": "7fe59afb",
   "metadata": {},
   "outputs": [],
   "source": []
  },
  {
   "cell_type": "code",
   "execution_count": 25,
   "id": "a893c8e7",
   "metadata": {},
   "outputs": [
    {
     "data": {
      "text/html": [
       "<style type=\"text/css\">\n",
       "#T_93844_row10_col1 {\n",
       "  background-color: lightgreen;\n",
       "}\n",
       "</style>\n",
       "<table id=\"T_93844\">\n",
       "  <thead>\n",
       "    <tr>\n",
       "      <th class=\"blank level0\" >&nbsp;</th>\n",
       "      <th id=\"T_93844_level0_col0\" class=\"col_heading level0 col0\" >Description</th>\n",
       "      <th id=\"T_93844_level0_col1\" class=\"col_heading level0 col1\" >Value</th>\n",
       "    </tr>\n",
       "  </thead>\n",
       "  <tbody>\n",
       "    <tr>\n",
       "      <th id=\"T_93844_level0_row0\" class=\"row_heading level0 row0\" >0</th>\n",
       "      <td id=\"T_93844_row0_col0\" class=\"data row0 col0\" >Session id</td>\n",
       "      <td id=\"T_93844_row0_col1\" class=\"data row0 col1\" >123</td>\n",
       "    </tr>\n",
       "    <tr>\n",
       "      <th id=\"T_93844_level0_row1\" class=\"row_heading level0 row1\" >1</th>\n",
       "      <td id=\"T_93844_row1_col0\" class=\"data row1 col0\" >Target</td>\n",
       "      <td id=\"T_93844_row1_col1\" class=\"data row1 col1\" >Amount ($)</td>\n",
       "    </tr>\n",
       "    <tr>\n",
       "      <th id=\"T_93844_level0_row2\" class=\"row_heading level0 row2\" >2</th>\n",
       "      <td id=\"T_93844_row2_col0\" class=\"data row2 col0\" >Target type</td>\n",
       "      <td id=\"T_93844_row2_col1\" class=\"data row2 col1\" >Regression</td>\n",
       "    </tr>\n",
       "    <tr>\n",
       "      <th id=\"T_93844_level0_row3\" class=\"row_heading level0 row3\" >3</th>\n",
       "      <td id=\"T_93844_row3_col0\" class=\"data row3 col0\" >Original data shape</td>\n",
       "      <td id=\"T_93844_row3_col1\" class=\"data row3 col1\" >(353, 11)</td>\n",
       "    </tr>\n",
       "    <tr>\n",
       "      <th id=\"T_93844_level0_row4\" class=\"row_heading level0 row4\" >4</th>\n",
       "      <td id=\"T_93844_row4_col0\" class=\"data row4 col0\" >Transformed data shape</td>\n",
       "      <td id=\"T_93844_row4_col1\" class=\"data row4 col1\" >(353, 46)</td>\n",
       "    </tr>\n",
       "    <tr>\n",
       "      <th id=\"T_93844_level0_row5\" class=\"row_heading level0 row5\" >5</th>\n",
       "      <td id=\"T_93844_row5_col0\" class=\"data row5 col0\" >Transformed train set shape</td>\n",
       "      <td id=\"T_93844_row5_col1\" class=\"data row5 col1\" >(247, 46)</td>\n",
       "    </tr>\n",
       "    <tr>\n",
       "      <th id=\"T_93844_level0_row6\" class=\"row_heading level0 row6\" >6</th>\n",
       "      <td id=\"T_93844_row6_col0\" class=\"data row6 col0\" >Transformed test set shape</td>\n",
       "      <td id=\"T_93844_row6_col1\" class=\"data row6 col1\" >(106, 46)</td>\n",
       "    </tr>\n",
       "    <tr>\n",
       "      <th id=\"T_93844_level0_row7\" class=\"row_heading level0 row7\" >7</th>\n",
       "      <td id=\"T_93844_row7_col0\" class=\"data row7 col0\" >Numeric features</td>\n",
       "      <td id=\"T_93844_row7_col1\" class=\"data row7 col1\" >2</td>\n",
       "    </tr>\n",
       "    <tr>\n",
       "      <th id=\"T_93844_level0_row8\" class=\"row_heading level0 row8\" >8</th>\n",
       "      <td id=\"T_93844_row8_col0\" class=\"data row8 col0\" >Date features</td>\n",
       "      <td id=\"T_93844_row8_col1\" class=\"data row8 col1\" >1</td>\n",
       "    </tr>\n",
       "    <tr>\n",
       "      <th id=\"T_93844_level0_row9\" class=\"row_heading level0 row9\" >9</th>\n",
       "      <td id=\"T_93844_row9_col0\" class=\"data row9 col0\" >Categorical features</td>\n",
       "      <td id=\"T_93844_row9_col1\" class=\"data row9 col1\" >7</td>\n",
       "    </tr>\n",
       "    <tr>\n",
       "      <th id=\"T_93844_level0_row10\" class=\"row_heading level0 row10\" >10</th>\n",
       "      <td id=\"T_93844_row10_col0\" class=\"data row10 col0\" >Preprocess</td>\n",
       "      <td id=\"T_93844_row10_col1\" class=\"data row10 col1\" >True</td>\n",
       "    </tr>\n",
       "    <tr>\n",
       "      <th id=\"T_93844_level0_row11\" class=\"row_heading level0 row11\" >11</th>\n",
       "      <td id=\"T_93844_row11_col0\" class=\"data row11 col0\" >Imputation type</td>\n",
       "      <td id=\"T_93844_row11_col1\" class=\"data row11 col1\" >simple</td>\n",
       "    </tr>\n",
       "    <tr>\n",
       "      <th id=\"T_93844_level0_row12\" class=\"row_heading level0 row12\" >12</th>\n",
       "      <td id=\"T_93844_row12_col0\" class=\"data row12 col0\" >Numeric imputation</td>\n",
       "      <td id=\"T_93844_row12_col1\" class=\"data row12 col1\" >mean</td>\n",
       "    </tr>\n",
       "    <tr>\n",
       "      <th id=\"T_93844_level0_row13\" class=\"row_heading level0 row13\" >13</th>\n",
       "      <td id=\"T_93844_row13_col0\" class=\"data row13 col0\" >Categorical imputation</td>\n",
       "      <td id=\"T_93844_row13_col1\" class=\"data row13 col1\" >mode</td>\n",
       "    </tr>\n",
       "    <tr>\n",
       "      <th id=\"T_93844_level0_row14\" class=\"row_heading level0 row14\" >14</th>\n",
       "      <td id=\"T_93844_row14_col0\" class=\"data row14 col0\" >Maximum one-hot encoding</td>\n",
       "      <td id=\"T_93844_row14_col1\" class=\"data row14 col1\" >25</td>\n",
       "    </tr>\n",
       "    <tr>\n",
       "      <th id=\"T_93844_level0_row15\" class=\"row_heading level0 row15\" >15</th>\n",
       "      <td id=\"T_93844_row15_col0\" class=\"data row15 col0\" >Encoding method</td>\n",
       "      <td id=\"T_93844_row15_col1\" class=\"data row15 col1\" >None</td>\n",
       "    </tr>\n",
       "    <tr>\n",
       "      <th id=\"T_93844_level0_row16\" class=\"row_heading level0 row16\" >16</th>\n",
       "      <td id=\"T_93844_row16_col0\" class=\"data row16 col0\" >Fold Generator</td>\n",
       "      <td id=\"T_93844_row16_col1\" class=\"data row16 col1\" >KFold</td>\n",
       "    </tr>\n",
       "    <tr>\n",
       "      <th id=\"T_93844_level0_row17\" class=\"row_heading level0 row17\" >17</th>\n",
       "      <td id=\"T_93844_row17_col0\" class=\"data row17 col0\" >Fold Number</td>\n",
       "      <td id=\"T_93844_row17_col1\" class=\"data row17 col1\" >10</td>\n",
       "    </tr>\n",
       "    <tr>\n",
       "      <th id=\"T_93844_level0_row18\" class=\"row_heading level0 row18\" >18</th>\n",
       "      <td id=\"T_93844_row18_col0\" class=\"data row18 col0\" >CPU Jobs</td>\n",
       "      <td id=\"T_93844_row18_col1\" class=\"data row18 col1\" >-1</td>\n",
       "    </tr>\n",
       "    <tr>\n",
       "      <th id=\"T_93844_level0_row19\" class=\"row_heading level0 row19\" >19</th>\n",
       "      <td id=\"T_93844_row19_col0\" class=\"data row19 col0\" >Use GPU</td>\n",
       "      <td id=\"T_93844_row19_col1\" class=\"data row19 col1\" >False</td>\n",
       "    </tr>\n",
       "    <tr>\n",
       "      <th id=\"T_93844_level0_row20\" class=\"row_heading level0 row20\" >20</th>\n",
       "      <td id=\"T_93844_row20_col0\" class=\"data row20 col0\" >Log Experiment</td>\n",
       "      <td id=\"T_93844_row20_col1\" class=\"data row20 col1\" >False</td>\n",
       "    </tr>\n",
       "    <tr>\n",
       "      <th id=\"T_93844_level0_row21\" class=\"row_heading level0 row21\" >21</th>\n",
       "      <td id=\"T_93844_row21_col0\" class=\"data row21 col0\" >Experiment Name</td>\n",
       "      <td id=\"T_93844_row21_col1\" class=\"data row21 col1\" >reg-default-name</td>\n",
       "    </tr>\n",
       "    <tr>\n",
       "      <th id=\"T_93844_level0_row22\" class=\"row_heading level0 row22\" >22</th>\n",
       "      <td id=\"T_93844_row22_col0\" class=\"data row22 col0\" >USI</td>\n",
       "      <td id=\"T_93844_row22_col1\" class=\"data row22 col1\" >3e78</td>\n",
       "    </tr>\n",
       "  </tbody>\n",
       "</table>\n"
      ],
      "text/plain": [
       "<pandas.io.formats.style.Styler at 0x1d7a4797fd0>"
      ]
     },
     "metadata": {},
     "output_type": "display_data"
    }
   ],
   "source": [
    "from pycaret.regression import *\n",
    "from pycaret.datasets import get_data\n",
    "\n",
    "reg_setup = setup(\n",
    "    data=df,    \n",
    "    target='Amount ($)',\n",
    "    session_id=123,        # for reproducibility\n",
    ")\n",
    "\n"
   ]
  },
  {
   "cell_type": "code",
   "execution_count": 26,
   "id": "6c98de2f",
   "metadata": {},
   "outputs": [
    {
     "data": {
      "text/html": [],
      "text/plain": [
       "<IPython.core.display.HTML object>"
      ]
     },
     "metadata": {},
     "output_type": "display_data"
    },
    {
     "data": {
      "text/html": [
       "<style type=\"text/css\">\n",
       "#T_0ef42 th {\n",
       "  text-align: left;\n",
       "}\n",
       "#T_0ef42_row0_col0, #T_0ef42_row1_col0, #T_0ef42_row1_col1, #T_0ef42_row1_col2, #T_0ef42_row1_col3, #T_0ef42_row1_col4, #T_0ef42_row1_col5, #T_0ef42_row1_col6, #T_0ef42_row2_col0, #T_0ef42_row2_col1, #T_0ef42_row2_col2, #T_0ef42_row2_col3, #T_0ef42_row2_col4, #T_0ef42_row2_col5, #T_0ef42_row2_col6, #T_0ef42_row3_col0, #T_0ef42_row3_col1, #T_0ef42_row3_col2, #T_0ef42_row3_col3, #T_0ef42_row3_col4, #T_0ef42_row3_col5, #T_0ef42_row3_col6, #T_0ef42_row4_col0, #T_0ef42_row4_col1, #T_0ef42_row4_col2, #T_0ef42_row4_col3, #T_0ef42_row4_col4, #T_0ef42_row4_col5, #T_0ef42_row4_col6, #T_0ef42_row5_col0, #T_0ef42_row5_col1, #T_0ef42_row5_col2, #T_0ef42_row5_col3, #T_0ef42_row5_col4, #T_0ef42_row5_col5, #T_0ef42_row5_col6, #T_0ef42_row6_col0, #T_0ef42_row6_col1, #T_0ef42_row6_col2, #T_0ef42_row6_col3, #T_0ef42_row6_col4, #T_0ef42_row6_col5, #T_0ef42_row6_col6, #T_0ef42_row7_col0, #T_0ef42_row7_col1, #T_0ef42_row7_col2, #T_0ef42_row7_col3, #T_0ef42_row7_col4, #T_0ef42_row7_col5, #T_0ef42_row7_col6, #T_0ef42_row8_col0, #T_0ef42_row8_col1, #T_0ef42_row8_col2, #T_0ef42_row8_col3, #T_0ef42_row8_col4, #T_0ef42_row8_col5, #T_0ef42_row8_col6, #T_0ef42_row9_col0, #T_0ef42_row9_col1, #T_0ef42_row9_col2, #T_0ef42_row9_col3, #T_0ef42_row9_col4, #T_0ef42_row9_col5, #T_0ef42_row9_col6, #T_0ef42_row10_col0, #T_0ef42_row10_col1, #T_0ef42_row10_col2, #T_0ef42_row10_col3, #T_0ef42_row10_col4, #T_0ef42_row10_col5, #T_0ef42_row10_col6, #T_0ef42_row11_col0, #T_0ef42_row11_col1, #T_0ef42_row11_col2, #T_0ef42_row11_col3, #T_0ef42_row11_col4, #T_0ef42_row11_col5, #T_0ef42_row11_col6, #T_0ef42_row12_col0, #T_0ef42_row12_col1, #T_0ef42_row12_col2, #T_0ef42_row12_col3, #T_0ef42_row12_col4, #T_0ef42_row12_col5, #T_0ef42_row12_col6, #T_0ef42_row13_col0, #T_0ef42_row13_col1, #T_0ef42_row13_col2, #T_0ef42_row13_col3, #T_0ef42_row13_col4, #T_0ef42_row13_col5, #T_0ef42_row13_col6, #T_0ef42_row14_col0, #T_0ef42_row14_col1, #T_0ef42_row14_col2, #T_0ef42_row14_col3, #T_0ef42_row14_col4, #T_0ef42_row14_col5, #T_0ef42_row14_col6, #T_0ef42_row15_col0, #T_0ef42_row15_col1, #T_0ef42_row15_col2, #T_0ef42_row15_col3, #T_0ef42_row15_col4, #T_0ef42_row15_col5, #T_0ef42_row15_col6, #T_0ef42_row16_col0, #T_0ef42_row16_col1, #T_0ef42_row16_col2, #T_0ef42_row16_col3, #T_0ef42_row16_col4, #T_0ef42_row16_col5, #T_0ef42_row16_col6, #T_0ef42_row17_col0, #T_0ef42_row17_col1, #T_0ef42_row17_col2, #T_0ef42_row17_col3, #T_0ef42_row17_col4, #T_0ef42_row17_col5, #T_0ef42_row17_col6, #T_0ef42_row18_col0, #T_0ef42_row18_col1, #T_0ef42_row18_col2, #T_0ef42_row18_col3, #T_0ef42_row18_col4, #T_0ef42_row18_col5, #T_0ef42_row18_col6 {\n",
       "  text-align: left;\n",
       "}\n",
       "#T_0ef42_row0_col1, #T_0ef42_row0_col2, #T_0ef42_row0_col3, #T_0ef42_row0_col4, #T_0ef42_row0_col5, #T_0ef42_row0_col6 {\n",
       "  text-align: left;\n",
       "  background-color: yellow;\n",
       "}\n",
       "#T_0ef42_row0_col7, #T_0ef42_row1_col7, #T_0ef42_row2_col7, #T_0ef42_row3_col7, #T_0ef42_row4_col7, #T_0ef42_row5_col7, #T_0ef42_row6_col7, #T_0ef42_row7_col7, #T_0ef42_row8_col7, #T_0ef42_row9_col7, #T_0ef42_row10_col7, #T_0ef42_row11_col7, #T_0ef42_row12_col7, #T_0ef42_row13_col7, #T_0ef42_row14_col7, #T_0ef42_row15_col7, #T_0ef42_row17_col7, #T_0ef42_row18_col7 {\n",
       "  text-align: left;\n",
       "  background-color: lightgrey;\n",
       "}\n",
       "#T_0ef42_row16_col7 {\n",
       "  text-align: left;\n",
       "  background-color: yellow;\n",
       "  background-color: lightgrey;\n",
       "}\n",
       "</style>\n",
       "<table id=\"T_0ef42\">\n",
       "  <thead>\n",
       "    <tr>\n",
       "      <th class=\"blank level0\" >&nbsp;</th>\n",
       "      <th id=\"T_0ef42_level0_col0\" class=\"col_heading level0 col0\" >Model</th>\n",
       "      <th id=\"T_0ef42_level0_col1\" class=\"col_heading level0 col1\" >MAE</th>\n",
       "      <th id=\"T_0ef42_level0_col2\" class=\"col_heading level0 col2\" >MSE</th>\n",
       "      <th id=\"T_0ef42_level0_col3\" class=\"col_heading level0 col3\" >RMSE</th>\n",
       "      <th id=\"T_0ef42_level0_col4\" class=\"col_heading level0 col4\" >R2</th>\n",
       "      <th id=\"T_0ef42_level0_col5\" class=\"col_heading level0 col5\" >RMSLE</th>\n",
       "      <th id=\"T_0ef42_level0_col6\" class=\"col_heading level0 col6\" >MAPE</th>\n",
       "      <th id=\"T_0ef42_level0_col7\" class=\"col_heading level0 col7\" >TT (Sec)</th>\n",
       "    </tr>\n",
       "  </thead>\n",
       "  <tbody>\n",
       "    <tr>\n",
       "      <th id=\"T_0ef42_level0_row0\" class=\"row_heading level0 row0\" >et</th>\n",
       "      <td id=\"T_0ef42_row0_col0\" class=\"data row0 col0\" >Extra Trees Regressor</td>\n",
       "      <td id=\"T_0ef42_row0_col1\" class=\"data row0 col1\" >11.6562</td>\n",
       "      <td id=\"T_0ef42_row0_col2\" class=\"data row0 col2\" >376.4723</td>\n",
       "      <td id=\"T_0ef42_row0_col3\" class=\"data row0 col3\" >18.3506</td>\n",
       "      <td id=\"T_0ef42_row0_col4\" class=\"data row0 col4\" >0.9966</td>\n",
       "      <td id=\"T_0ef42_row0_col5\" class=\"data row0 col5\" >0.0583</td>\n",
       "      <td id=\"T_0ef42_row0_col6\" class=\"data row0 col6\" >0.0357</td>\n",
       "      <td id=\"T_0ef42_row0_col7\" class=\"data row0 col7\" >0.0850</td>\n",
       "    </tr>\n",
       "    <tr>\n",
       "      <th id=\"T_0ef42_level0_row1\" class=\"row_heading level0 row1\" >gbr</th>\n",
       "      <td id=\"T_0ef42_row1_col0\" class=\"data row1 col0\" >Gradient Boosting Regressor</td>\n",
       "      <td id=\"T_0ef42_row1_col1\" class=\"data row1 col1\" >16.8759</td>\n",
       "      <td id=\"T_0ef42_row1_col2\" class=\"data row1 col2\" >586.9323</td>\n",
       "      <td id=\"T_0ef42_row1_col3\" class=\"data row1 col3\" >23.5910</td>\n",
       "      <td id=\"T_0ef42_row1_col4\" class=\"data row1 col4\" >0.9944</td>\n",
       "      <td id=\"T_0ef42_row1_col5\" class=\"data row1 col5\" >0.0654</td>\n",
       "      <td id=\"T_0ef42_row1_col6\" class=\"data row1 col6\" >0.0457</td>\n",
       "      <td id=\"T_0ef42_row1_col7\" class=\"data row1 col7\" >0.0570</td>\n",
       "    </tr>\n",
       "    <tr>\n",
       "      <th id=\"T_0ef42_level0_row2\" class=\"row_heading level0 row2\" >rf</th>\n",
       "      <td id=\"T_0ef42_row2_col0\" class=\"data row2 col0\" >Random Forest Regressor</td>\n",
       "      <td id=\"T_0ef42_row2_col1\" class=\"data row2 col1\" >18.7348</td>\n",
       "      <td id=\"T_0ef42_row2_col2\" class=\"data row2 col2\" >710.9252</td>\n",
       "      <td id=\"T_0ef42_row2_col3\" class=\"data row2 col3\" >26.2080</td>\n",
       "      <td id=\"T_0ef42_row2_col4\" class=\"data row2 col4\" >0.9935</td>\n",
       "      <td id=\"T_0ef42_row2_col5\" class=\"data row2 col5\" >0.0756</td>\n",
       "      <td id=\"T_0ef42_row2_col6\" class=\"data row2 col6\" >0.0520</td>\n",
       "      <td id=\"T_0ef42_row2_col7\" class=\"data row2 col7\" >0.0970</td>\n",
       "    </tr>\n",
       "    <tr>\n",
       "      <th id=\"T_0ef42_level0_row3\" class=\"row_heading level0 row3\" >xgboost</th>\n",
       "      <td id=\"T_0ef42_row3_col0\" class=\"data row3 col0\" >Extreme Gradient Boosting</td>\n",
       "      <td id=\"T_0ef42_row3_col1\" class=\"data row3 col1\" >18.7345</td>\n",
       "      <td id=\"T_0ef42_row3_col2\" class=\"data row3 col2\" >714.7161</td>\n",
       "      <td id=\"T_0ef42_row3_col3\" class=\"data row3 col3\" >26.1300</td>\n",
       "      <td id=\"T_0ef42_row3_col4\" class=\"data row3 col4\" >0.9934</td>\n",
       "      <td id=\"T_0ef42_row3_col5\" class=\"data row3 col5\" >0.0728</td>\n",
       "      <td id=\"T_0ef42_row3_col6\" class=\"data row3 col6\" >0.0507</td>\n",
       "      <td id=\"T_0ef42_row3_col7\" class=\"data row3 col7\" >0.0590</td>\n",
       "    </tr>\n",
       "    <tr>\n",
       "      <th id=\"T_0ef42_level0_row4\" class=\"row_heading level0 row4\" >lightgbm</th>\n",
       "      <td id=\"T_0ef42_row4_col0\" class=\"data row4 col0\" >Light Gradient Boosting Machine</td>\n",
       "      <td id=\"T_0ef42_row4_col1\" class=\"data row4 col1\" >23.7702</td>\n",
       "      <td id=\"T_0ef42_row4_col2\" class=\"data row4 col2\" >1020.6560</td>\n",
       "      <td id=\"T_0ef42_row4_col3\" class=\"data row4 col3\" >31.2454</td>\n",
       "      <td id=\"T_0ef42_row4_col4\" class=\"data row4 col4\" >0.9906</td>\n",
       "      <td id=\"T_0ef42_row4_col5\" class=\"data row4 col5\" >0.0834</td>\n",
       "      <td id=\"T_0ef42_row4_col6\" class=\"data row4 col6\" >0.0608</td>\n",
       "      <td id=\"T_0ef42_row4_col7\" class=\"data row4 col7\" >0.0850</td>\n",
       "    </tr>\n",
       "    <tr>\n",
       "      <th id=\"T_0ef42_level0_row5\" class=\"row_heading level0 row5\" >dt</th>\n",
       "      <td id=\"T_0ef42_row5_col0\" class=\"data row5 col0\" >Decision Tree Regressor</td>\n",
       "      <td id=\"T_0ef42_row5_col1\" class=\"data row5 col1\" >24.6646</td>\n",
       "      <td id=\"T_0ef42_row5_col2\" class=\"data row5 col2\" >1290.0825</td>\n",
       "      <td id=\"T_0ef42_row5_col3\" class=\"data row5 col3\" >35.4347</td>\n",
       "      <td id=\"T_0ef42_row5_col4\" class=\"data row5 col4\" >0.9876</td>\n",
       "      <td id=\"T_0ef42_row5_col5\" class=\"data row5 col5\" >0.1015</td>\n",
       "      <td id=\"T_0ef42_row5_col6\" class=\"data row5 col6\" >0.0663</td>\n",
       "      <td id=\"T_0ef42_row5_col7\" class=\"data row5 col7\" >0.0370</td>\n",
       "    </tr>\n",
       "    <tr>\n",
       "      <th id=\"T_0ef42_level0_row6\" class=\"row_heading level0 row6\" >ada</th>\n",
       "      <td id=\"T_0ef42_row6_col0\" class=\"data row6 col0\" >AdaBoost Regressor</td>\n",
       "      <td id=\"T_0ef42_row6_col1\" class=\"data row6 col1\" >63.3747</td>\n",
       "      <td id=\"T_0ef42_row6_col2\" class=\"data row6 col2\" >5737.5422</td>\n",
       "      <td id=\"T_0ef42_row6_col3\" class=\"data row6 col3\" >75.3992</td>\n",
       "      <td id=\"T_0ef42_row6_col4\" class=\"data row6 col4\" >0.9451</td>\n",
       "      <td id=\"T_0ef42_row6_col5\" class=\"data row6 col5\" >0.2491</td>\n",
       "      <td id=\"T_0ef42_row6_col6\" class=\"data row6 col6\" >0.2141</td>\n",
       "      <td id=\"T_0ef42_row6_col7\" class=\"data row6 col7\" >0.0550</td>\n",
       "    </tr>\n",
       "    <tr>\n",
       "      <th id=\"T_0ef42_level0_row7\" class=\"row_heading level0 row7\" >omp</th>\n",
       "      <td id=\"T_0ef42_row7_col0\" class=\"data row7 col0\" >Orthogonal Matching Pursuit</td>\n",
       "      <td id=\"T_0ef42_row7_col1\" class=\"data row7 col1\" >78.9454</td>\n",
       "      <td id=\"T_0ef42_row7_col2\" class=\"data row7 col2\" >11328.7314</td>\n",
       "      <td id=\"T_0ef42_row7_col3\" class=\"data row7 col3\" >105.7920</td>\n",
       "      <td id=\"T_0ef42_row7_col4\" class=\"data row7 col4\" >0.8899</td>\n",
       "      <td id=\"T_0ef42_row7_col5\" class=\"data row7 col5\" >0.3903</td>\n",
       "      <td id=\"T_0ef42_row7_col6\" class=\"data row7 col6\" >0.3257</td>\n",
       "      <td id=\"T_0ef42_row7_col7\" class=\"data row7 col7\" >0.0370</td>\n",
       "    </tr>\n",
       "    <tr>\n",
       "      <th id=\"T_0ef42_level0_row8\" class=\"row_heading level0 row8\" >br</th>\n",
       "      <td id=\"T_0ef42_row8_col0\" class=\"data row8 col0\" >Bayesian Ridge</td>\n",
       "      <td id=\"T_0ef42_row8_col1\" class=\"data row8 col1\" >80.5599</td>\n",
       "      <td id=\"T_0ef42_row8_col2\" class=\"data row8 col2\" >11863.9239</td>\n",
       "      <td id=\"T_0ef42_row8_col3\" class=\"data row8 col3\" >108.2405</td>\n",
       "      <td id=\"T_0ef42_row8_col4\" class=\"data row8 col4\" >0.8851</td>\n",
       "      <td id=\"T_0ef42_row8_col5\" class=\"data row8 col5\" >0.4756</td>\n",
       "      <td id=\"T_0ef42_row8_col6\" class=\"data row8 col6\" >0.3223</td>\n",
       "      <td id=\"T_0ef42_row8_col7\" class=\"data row8 col7\" >0.0370</td>\n",
       "    </tr>\n",
       "    <tr>\n",
       "      <th id=\"T_0ef42_level0_row9\" class=\"row_heading level0 row9\" >lasso</th>\n",
       "      <td id=\"T_0ef42_row9_col0\" class=\"data row9 col0\" >Lasso Regression</td>\n",
       "      <td id=\"T_0ef42_row9_col1\" class=\"data row9 col1\" >80.0151</td>\n",
       "      <td id=\"T_0ef42_row9_col2\" class=\"data row9 col2\" >11841.8069</td>\n",
       "      <td id=\"T_0ef42_row9_col3\" class=\"data row9 col3\" >108.1296</td>\n",
       "      <td id=\"T_0ef42_row9_col4\" class=\"data row9 col4\" >0.8850</td>\n",
       "      <td id=\"T_0ef42_row9_col5\" class=\"data row9 col5\" >0.4494</td>\n",
       "      <td id=\"T_0ef42_row9_col6\" class=\"data row9 col6\" >0.3299</td>\n",
       "      <td id=\"T_0ef42_row9_col7\" class=\"data row9 col7\" >0.2860</td>\n",
       "    </tr>\n",
       "    <tr>\n",
       "      <th id=\"T_0ef42_level0_row10\" class=\"row_heading level0 row10\" >llar</th>\n",
       "      <td id=\"T_0ef42_row10_col0\" class=\"data row10 col0\" >Lasso Least Angle Regression</td>\n",
       "      <td id=\"T_0ef42_row10_col1\" class=\"data row10 col1\" >80.0627</td>\n",
       "      <td id=\"T_0ef42_row10_col2\" class=\"data row10 col2\" >11873.3471</td>\n",
       "      <td id=\"T_0ef42_row10_col3\" class=\"data row10 col3\" >108.2952</td>\n",
       "      <td id=\"T_0ef42_row10_col4\" class=\"data row10 col4\" >0.8849</td>\n",
       "      <td id=\"T_0ef42_row10_col5\" class=\"data row10 col5\" >0.4394</td>\n",
       "      <td id=\"T_0ef42_row10_col6\" class=\"data row10 col6\" >0.3303</td>\n",
       "      <td id=\"T_0ef42_row10_col7\" class=\"data row10 col7\" >0.0380</td>\n",
       "    </tr>\n",
       "    <tr>\n",
       "      <th id=\"T_0ef42_level0_row11\" class=\"row_heading level0 row11\" >huber</th>\n",
       "      <td id=\"T_0ef42_row11_col0\" class=\"data row11 col0\" >Huber Regressor</td>\n",
       "      <td id=\"T_0ef42_row11_col1\" class=\"data row11 col1\" >82.0170</td>\n",
       "      <td id=\"T_0ef42_row11_col2\" class=\"data row11 col2\" >11893.1080</td>\n",
       "      <td id=\"T_0ef42_row11_col3\" class=\"data row11 col3\" >108.2756</td>\n",
       "      <td id=\"T_0ef42_row11_col4\" class=\"data row11 col4\" >0.8840</td>\n",
       "      <td id=\"T_0ef42_row11_col5\" class=\"data row11 col5\" >0.4676</td>\n",
       "      <td id=\"T_0ef42_row11_col6\" class=\"data row11 col6\" >0.3297</td>\n",
       "      <td id=\"T_0ef42_row11_col7\" class=\"data row11 col7\" >0.0460</td>\n",
       "    </tr>\n",
       "    <tr>\n",
       "      <th id=\"T_0ef42_level0_row12\" class=\"row_heading level0 row12\" >ridge</th>\n",
       "      <td id=\"T_0ef42_row12_col0\" class=\"data row12 col0\" >Ridge Regression</td>\n",
       "      <td id=\"T_0ef42_row12_col1\" class=\"data row12 col1\" >81.7113</td>\n",
       "      <td id=\"T_0ef42_row12_col2\" class=\"data row12 col2\" >12132.0642</td>\n",
       "      <td id=\"T_0ef42_row12_col3\" class=\"data row12 col3\" >109.3823</td>\n",
       "      <td id=\"T_0ef42_row12_col4\" class=\"data row12 col4\" >0.8825</td>\n",
       "      <td id=\"T_0ef42_row12_col5\" class=\"data row12 col5\" >0.4808</td>\n",
       "      <td id=\"T_0ef42_row12_col6\" class=\"data row12 col6\" >0.3303</td>\n",
       "      <td id=\"T_0ef42_row12_col7\" class=\"data row12 col7\" >0.0410</td>\n",
       "    </tr>\n",
       "    <tr>\n",
       "      <th id=\"T_0ef42_level0_row13\" class=\"row_heading level0 row13\" >lr</th>\n",
       "      <td id=\"T_0ef42_row13_col0\" class=\"data row13 col0\" >Linear Regression</td>\n",
       "      <td id=\"T_0ef42_row13_col1\" class=\"data row13 col1\" >81.9421</td>\n",
       "      <td id=\"T_0ef42_row13_col2\" class=\"data row13 col2\" >12196.9417</td>\n",
       "      <td id=\"T_0ef42_row13_col3\" class=\"data row13 col3\" >109.6573</td>\n",
       "      <td id=\"T_0ef42_row13_col4\" class=\"data row13 col4\" >0.8818</td>\n",
       "      <td id=\"T_0ef42_row13_col5\" class=\"data row13 col5\" >0.4690</td>\n",
       "      <td id=\"T_0ef42_row13_col6\" class=\"data row13 col6\" >0.3318</td>\n",
       "      <td id=\"T_0ef42_row13_col7\" class=\"data row13 col7\" >0.7520</td>\n",
       "    </tr>\n",
       "    <tr>\n",
       "      <th id=\"T_0ef42_level0_row14\" class=\"row_heading level0 row14\" >en</th>\n",
       "      <td id=\"T_0ef42_row14_col0\" class=\"data row14 col0\" >Elastic Net</td>\n",
       "      <td id=\"T_0ef42_row14_col1\" class=\"data row14 col1\" >82.9358</td>\n",
       "      <td id=\"T_0ef42_row14_col2\" class=\"data row14 col2\" >13529.0169</td>\n",
       "      <td id=\"T_0ef42_row14_col3\" class=\"data row14 col3\" >115.2514</td>\n",
       "      <td id=\"T_0ef42_row14_col4\" class=\"data row14 col4\" >0.8715</td>\n",
       "      <td id=\"T_0ef42_row14_col5\" class=\"data row14 col5\" >0.4541</td>\n",
       "      <td id=\"T_0ef42_row14_col6\" class=\"data row14 col6\" >0.2681</td>\n",
       "      <td id=\"T_0ef42_row14_col7\" class=\"data row14 col7\" >0.0400</td>\n",
       "    </tr>\n",
       "    <tr>\n",
       "      <th id=\"T_0ef42_level0_row15\" class=\"row_heading level0 row15\" >knn</th>\n",
       "      <td id=\"T_0ef42_row15_col0\" class=\"data row15 col0\" >K Neighbors Regressor</td>\n",
       "      <td id=\"T_0ef42_row15_col1\" class=\"data row15 col1\" >217.1688</td>\n",
       "      <td id=\"T_0ef42_row15_col2\" class=\"data row15 col2\" >74516.9691</td>\n",
       "      <td id=\"T_0ef42_row15_col3\" class=\"data row15 col3\" >272.1994</td>\n",
       "      <td id=\"T_0ef42_row15_col4\" class=\"data row15 col4\" >0.2884</td>\n",
       "      <td id=\"T_0ef42_row15_col5\" class=\"data row15 col5\" >0.5854</td>\n",
       "      <td id=\"T_0ef42_row15_col6\" class=\"data row15 col6\" >0.6318</td>\n",
       "      <td id=\"T_0ef42_row15_col7\" class=\"data row15 col7\" >0.0660</td>\n",
       "    </tr>\n",
       "    <tr>\n",
       "      <th id=\"T_0ef42_level0_row16\" class=\"row_heading level0 row16\" >par</th>\n",
       "      <td id=\"T_0ef42_row16_col0\" class=\"data row16 col0\" >Passive Aggressive Regressor</td>\n",
       "      <td id=\"T_0ef42_row16_col1\" class=\"data row16 col1\" >247.3215</td>\n",
       "      <td id=\"T_0ef42_row16_col2\" class=\"data row16 col2\" >98078.7125</td>\n",
       "      <td id=\"T_0ef42_row16_col3\" class=\"data row16 col3\" >305.2351</td>\n",
       "      <td id=\"T_0ef42_row16_col4\" class=\"data row16 col4\" >0.1296</td>\n",
       "      <td id=\"T_0ef42_row16_col5\" class=\"data row16 col5\" >0.7702</td>\n",
       "      <td id=\"T_0ef42_row16_col6\" class=\"data row16 col6\" >0.6135</td>\n",
       "      <td id=\"T_0ef42_row16_col7\" class=\"data row16 col7\" >0.0360</td>\n",
       "    </tr>\n",
       "    <tr>\n",
       "      <th id=\"T_0ef42_level0_row17\" class=\"row_heading level0 row17\" >dummy</th>\n",
       "      <td id=\"T_0ef42_row17_col0\" class=\"data row17 col0\" >Dummy Regressor</td>\n",
       "      <td id=\"T_0ef42_row17_col1\" class=\"data row17 col1\" >286.0888</td>\n",
       "      <td id=\"T_0ef42_row17_col2\" class=\"data row17 col2\" >121525.3664</td>\n",
       "      <td id=\"T_0ef42_row17_col3\" class=\"data row17 col3\" >345.9475</td>\n",
       "      <td id=\"T_0ef42_row17_col4\" class=\"data row17 col4\" >-0.1049</td>\n",
       "      <td id=\"T_0ef42_row17_col5\" class=\"data row17 col5\" >0.7719</td>\n",
       "      <td id=\"T_0ef42_row17_col6\" class=\"data row17 col6\" >1.0293</td>\n",
       "      <td id=\"T_0ef42_row17_col7\" class=\"data row17 col7\" >0.0380</td>\n",
       "    </tr>\n",
       "    <tr>\n",
       "      <th id=\"T_0ef42_level0_row18\" class=\"row_heading level0 row18\" >lar</th>\n",
       "      <td id=\"T_0ef42_row18_col0\" class=\"data row18 col0\" >Least Angle Regression</td>\n",
       "      <td id=\"T_0ef42_row18_col1\" class=\"data row18 col1\" >82273379.9936</td>\n",
       "      <td id=\"T_0ef42_row18_col2\" class=\"data row18 col2\" >40762883857962640.0000</td>\n",
       "      <td id=\"T_0ef42_row18_col3\" class=\"data row18 col3\" >101704153.3875</td>\n",
       "      <td id=\"T_0ef42_row18_col4\" class=\"data row18 col4\" >-374215430466.6384</td>\n",
       "      <td id=\"T_0ef42_row18_col5\" class=\"data row18 col5\" >6.1131</td>\n",
       "      <td id=\"T_0ef42_row18_col6\" class=\"data row18 col6\" >247267.4229</td>\n",
       "      <td id=\"T_0ef42_row18_col7\" class=\"data row18 col7\" >0.0440</td>\n",
       "    </tr>\n",
       "  </tbody>\n",
       "</table>\n"
      ],
      "text/plain": [
       "<pandas.io.formats.style.Styler at 0x1d7a43b3a30>"
      ]
     },
     "metadata": {},
     "output_type": "display_data"
    },
    {
     "data": {
      "text/html": [],
      "text/plain": [
       "<IPython.core.display.HTML object>"
      ]
     },
     "metadata": {},
     "output_type": "display_data"
    }
   ],
   "source": [
    "best_model = compare_models()"
   ]
  },
  {
   "cell_type": "code",
   "execution_count": 27,
   "id": "2ddfa78e",
   "metadata": {},
   "outputs": [],
   "source": [
    "from sklearn.linear_model import LinearRegression\n",
    "from sklearn.linear_model import Ridge\n",
    "from sklearn.linear_model import Lasso\n",
    "from sklearn.linear_model import ElasticNet\n",
    "from sklearn.svm import SVR\n",
    "from sklearn.tree import DecisionTreeRegressor\n",
    "from sklearn.ensemble import RandomForestRegressor\n",
    "from sklearn.ensemble import GradientBoostingRegressor\n",
    "from sklearn.ensemble import AdaBoostRegressor\n",
    "from xgboost import XGBRegressor\n",
    "from sklearn.neighbors import KNeighborsRegressor\n",
    "from sklearn.neural_network import MLPRegressor"
   ]
  },
  {
   "cell_type": "code",
   "execution_count": 28,
   "id": "46c349e9",
   "metadata": {},
   "outputs": [],
   "source": [
    "models=[]\n",
    "models.append(('Linear Regression',LinearRegression()))\n",
    "models.append(('Ridge',Ridge()))\n",
    "models.append(('Lasso',Lasso()))\n",
    "models.append(('Elastic Net',ElasticNet()))\n",
    "models.append(('SVR',SVR()))\n",
    "models.append(('Decision Tree Regressor',DecisionTreeRegressor()))\n",
    "models.append(('Random Forest Regressor',RandomForestRegressor()))\n",
    "models.append(('Gradient Boosting Regressor',GradientBoostingRegressor()))\n",
    "models.append(('Ada Boost Regressor',AdaBoostRegressor()))\n",
    "models.append(('XGB Regressor',XGBRegressor()))\n",
    "models.append(('KNeighbors Regressor',KNeighborsRegressor()))\n",
    "models.append(('MLPRegressor',MLPRegressor()))"
   ]
  },
  {
   "cell_type": "code",
   "execution_count": 29,
   "id": "7b6c7861",
   "metadata": {},
   "outputs": [],
   "source": [
    "from sklearn.metrics import r2_score,mean_absolute_error,mean_squared_error\n",
    "record={\n",
    "    'Model Name' : [],\n",
    "    'R2 Score':[],\n",
    "    'Mean Absolute Error':[],\n",
    "    'Root Mean Squared Error' :[]\n",
    "}\n",
    "for name,model in models:\n",
    "  m=model.fit(X_train,y_train)\n",
    "  y_predict=m.predict(X_test)\n",
    "  record['Model Name'].append(name)\n",
    "  record['R2 Score'].append(r2_score(y_test,y_predict)*100)\n",
    "  record['Mean Absolute Error'].append(mean_absolute_error(y_test,y_predict))\n",
    "  record['Root Mean Squared Error'].append(mean_squared_error(y_test,y_predict))\n"
   ]
  },
  {
   "cell_type": "code",
   "execution_count": 30,
   "id": "fbbb484f",
   "metadata": {},
   "outputs": [
    {
     "data": {
      "text/html": [
       "<div>\n",
       "<style scoped>\n",
       "    .dataframe tbody tr th:only-of-type {\n",
       "        vertical-align: middle;\n",
       "    }\n",
       "\n",
       "    .dataframe tbody tr th {\n",
       "        vertical-align: top;\n",
       "    }\n",
       "\n",
       "    .dataframe thead th {\n",
       "        text-align: right;\n",
       "    }\n",
       "</style>\n",
       "<table border=\"1\" class=\"dataframe\">\n",
       "  <thead>\n",
       "    <tr style=\"text-align: right;\">\n",
       "      <th></th>\n",
       "      <th>Model Name</th>\n",
       "      <th>R2 Score</th>\n",
       "      <th>Mean Absolute Error</th>\n",
       "      <th>Root Mean Squared Error</th>\n",
       "    </tr>\n",
       "  </thead>\n",
       "  <tbody>\n",
       "    <tr>\n",
       "      <th>0</th>\n",
       "      <td>Linear Regression</td>\n",
       "      <td>89.683922</td>\n",
       "      <td>81.470513</td>\n",
       "      <td>11816.565994</td>\n",
       "    </tr>\n",
       "    <tr>\n",
       "      <th>1</th>\n",
       "      <td>Ridge</td>\n",
       "      <td>89.726530</td>\n",
       "      <td>81.336910</td>\n",
       "      <td>11767.760511</td>\n",
       "    </tr>\n",
       "    <tr>\n",
       "      <th>2</th>\n",
       "      <td>Lasso</td>\n",
       "      <td>90.033996</td>\n",
       "      <td>80.234428</td>\n",
       "      <td>11415.573704</td>\n",
       "    </tr>\n",
       "    <tr>\n",
       "      <th>3</th>\n",
       "      <td>Elastic Net</td>\n",
       "      <td>90.578886</td>\n",
       "      <td>76.618500</td>\n",
       "      <td>10791.428663</td>\n",
       "    </tr>\n",
       "    <tr>\n",
       "      <th>4</th>\n",
       "      <td>SVR</td>\n",
       "      <td>7.204153</td>\n",
       "      <td>271.478620</td>\n",
       "      <td>106293.134241</td>\n",
       "    </tr>\n",
       "    <tr>\n",
       "      <th>5</th>\n",
       "      <td>Decision Tree Regressor</td>\n",
       "      <td>99.763604</td>\n",
       "      <td>11.609155</td>\n",
       "      <td>270.780630</td>\n",
       "    </tr>\n",
       "    <tr>\n",
       "      <th>6</th>\n",
       "      <td>Random Forest Regressor</td>\n",
       "      <td>99.831838</td>\n",
       "      <td>9.765524</td>\n",
       "      <td>192.621563</td>\n",
       "    </tr>\n",
       "    <tr>\n",
       "      <th>7</th>\n",
       "      <td>Gradient Boosting Regressor</td>\n",
       "      <td>99.821094</td>\n",
       "      <td>10.327809</td>\n",
       "      <td>204.928358</td>\n",
       "    </tr>\n",
       "    <tr>\n",
       "      <th>8</th>\n",
       "      <td>Ada Boost Regressor</td>\n",
       "      <td>96.383491</td>\n",
       "      <td>56.270415</td>\n",
       "      <td>4142.535484</td>\n",
       "    </tr>\n",
       "    <tr>\n",
       "      <th>9</th>\n",
       "      <td>XGB Regressor</td>\n",
       "      <td>99.852391</td>\n",
       "      <td>9.813119</td>\n",
       "      <td>169.079193</td>\n",
       "    </tr>\n",
       "    <tr>\n",
       "      <th>10</th>\n",
       "      <td>KNeighbors Regressor</td>\n",
       "      <td>70.032783</td>\n",
       "      <td>139.517155</td>\n",
       "      <td>34325.991390</td>\n",
       "    </tr>\n",
       "    <tr>\n",
       "      <th>11</th>\n",
       "      <td>MLPRegressor</td>\n",
       "      <td>58.002534</td>\n",
       "      <td>176.481675</td>\n",
       "      <td>48106.056336</td>\n",
       "    </tr>\n",
       "  </tbody>\n",
       "</table>\n",
       "</div>"
      ],
      "text/plain": [
       "                     Model Name   R2 Score  Mean Absolute Error  \\\n",
       "0             Linear Regression  89.683922            81.470513   \n",
       "1                         Ridge  89.726530            81.336910   \n",
       "2                         Lasso  90.033996            80.234428   \n",
       "3                   Elastic Net  90.578886            76.618500   \n",
       "4                           SVR   7.204153           271.478620   \n",
       "5       Decision Tree Regressor  99.763604            11.609155   \n",
       "6       Random Forest Regressor  99.831838             9.765524   \n",
       "7   Gradient Boosting Regressor  99.821094            10.327809   \n",
       "8           Ada Boost Regressor  96.383491            56.270415   \n",
       "9                 XGB Regressor  99.852391             9.813119   \n",
       "10         KNeighbors Regressor  70.032783           139.517155   \n",
       "11                 MLPRegressor  58.002534           176.481675   \n",
       "\n",
       "    Root Mean Squared Error  \n",
       "0              11816.565994  \n",
       "1              11767.760511  \n",
       "2              11415.573704  \n",
       "3              10791.428663  \n",
       "4             106293.134241  \n",
       "5                270.780630  \n",
       "6                192.621563  \n",
       "7                204.928358  \n",
       "8               4142.535484  \n",
       "9                169.079193  \n",
       "10             34325.991390  \n",
       "11             48106.056336  "
      ]
     },
     "execution_count": 30,
     "metadata": {},
     "output_type": "execute_result"
    }
   ],
   "source": [
    "record=pd.DataFrame(record)\n",
    "record"
   ]
  },
  {
   "cell_type": "code",
   "execution_count": 31,
   "id": "5afb5597",
   "metadata": {},
   "outputs": [
    {
     "name": "stdout",
     "output_type": "stream",
     "text": [
      "Best Parameters from Grid Search: {'max_depth': 10, 'min_samples_leaf': 1, 'min_samples_split': 2, 'n_estimators': 200}\n",
      "Best CV R² Score from Grid Search: 0.995967603712564\n",
      "Test R² Score: 0.998547995959097\n"
     ]
    }
   ],
   "source": [
    "from sklearn.model_selection import GridSearchCV\n",
    "# Define the model\n",
    "rf = RandomForestRegressor(random_state=42)\n",
    "# Define a smaller parameter grid to prevent overload\n",
    "param_grid = {\n",
    "    'n_estimators': [100, 200],           # Reduced range\n",
    "    'max_depth': [5, 10],                 # Avoid very deep trees\n",
    "    'min_samples_split': [2, 5],\n",
    "    'min_samples_leaf': [1, 2]\n",
    "}\n",
    "# Initialize GridSearchCV (Safe Configuration)\n",
    "grid_search = GridSearchCV(\n",
    "    estimator=rf,\n",
    "    param_grid=param_grid,\n",
    "    cv=5,\n",
    "    n_jobs=1,                # Avoids BrokenPipeError in Colab/Jupyter\n",
    "    pre_dispatch='2*n_jobs', # Prevents overloading job queue\n",
    "    scoring='r2',\n",
    "    verbose=0\n",
    ")\n",
    "#Fit on training data\n",
    "grid_search.fit(X_train, y_train)\n",
    "\n",
    "# Get the best parameters and score\n",
    "print(\"Best Parameters from Grid Search:\", grid_search.best_params_)\n",
    "print(\"Best CV R² Score from Grid Search:\", grid_search.best_score_)\n",
    "\n",
    "# Evaluate on test data\n",
    "best_rf = grid_search.best_estimator_\n",
    "y_pred = best_rf.predict(X_test)\n",
    "print(\"Test R² Score:\", r2_score(y_test, y_pred))\n"
   ]
  },
  {
   "cell_type": "code",
   "execution_count": 32,
   "id": "c6fd4a41",
   "metadata": {},
   "outputs": [
    {
     "name": "stdout",
     "output_type": "stream",
     "text": [
      "Fitting 3 folds for each of 48 candidates, totalling 144 fits\n",
      "✅ Best Parameters from Grid Search: {'colsample_bytree': 1.0, 'learning_rate': 0.1, 'max_depth': 3, 'n_estimators': 200, 'subsample': 0.8}\n",
      "✅ Best CV R² Score from Grid Search: 0.9972207023919958\n",
      "✅ Test R² Score: 0.9979749847281482\n"
     ]
    }
   ],
   "source": [
    "from xgboost import XGBRegressor\n",
    "from sklearn.model_selection import GridSearchCV\n",
    "from sklearn.metrics import r2_score\n",
    "\n",
    "# ✅ Define XGBoost model\n",
    "xg = XGBRegressor(objective='reg:squarederror', random_state=42)\n",
    "\n",
    "# ✅ Define a proper parameter grid for XGBRegressor\n",
    "param_grid = {\n",
    "    'n_estimators': [100, 200],\n",
    "    'max_depth': [3, 5, 10],\n",
    "    'learning_rate': [0.01, 0.1],\n",
    "    'subsample': [0.8, 1.0],\n",
    "    'colsample_bytree': [0.8, 1.0]\n",
    "}\n",
    "\n",
    "# ✅ Initialize GridSearchCV with safe configuration\n",
    "grid_search = GridSearchCV(\n",
    "    estimator=xg,\n",
    "    param_grid=param_grid,\n",
    "    cv=3,                   # Using 3-fold to reduce computation\n",
    "    n_jobs=1,               # Avoid BrokenPipeError\n",
    "    pre_dispatch='2*n_jobs',\n",
    "    scoring='r2',\n",
    "    verbose=1\n",
    ")\n",
    "\n",
    "# ✅ Fit on training data\n",
    "grid_search.fit(X_train, y_train)\n",
    "\n",
    "# ✅ Get the best parameters and score\n",
    "print(\"✅ Best Parameters from Grid Search:\", grid_search.best_params_)\n",
    "print(\"✅ Best CV R² Score from Grid Search:\", grid_search.best_score_)\n",
    "\n",
    "# ✅ Evaluate on test data\n",
    "best_random = grid_search.best_estimator_\n",
    "y_pred = best_random.predict(X_test)\n",
    "print(\"✅ Test R² Score:\", r2_score(y_test, y_pred))\n"
   ]
  },
  {
   "cell_type": "code",
   "execution_count": 33,
   "id": "7ef872bd",
   "metadata": {},
   "outputs": [],
   "source": [
    "import joblib"
   ]
  },
  {
   "cell_type": "code",
   "execution_count": 34,
   "id": "120b2510",
   "metadata": {},
   "outputs": [
    {
     "name": "stdout",
     "output_type": "stream",
     "text": [
      " Model saved as 'best_xgb_model.pkl'\n"
     ]
    }
   ],
   "source": [
    "# save the model \n",
    "joblib.dump(best_random, 'best_xgb_model.pkl')\n",
    "print(\" Model saved as 'best_xgb_model.pkl'\")"
   ]
  },
  {
   "cell_type": "code",
   "execution_count": 35,
   "id": "387f35b8",
   "metadata": {},
   "outputs": [
    {
     "name": "stdout",
     "output_type": "stream",
     "text": [
      " Model loaded successfully\n",
      "loaded model test R² Score: 0.9979749847281482\n"
     ]
    }
   ],
   "source": [
    "# load model when needed \n",
    "loaded_model = joblib.load('best_xgb_model.pkl')\n",
    "print(\" Model loaded successfully\")\n",
    "\n",
    "# Test loading Work\n",
    "print(\"loaded model test R² Score:\", r2_score(y_test, loaded_model.predict(X_test)))"
   ]
  },
  {
   "cell_type": "code",
   "execution_count": 36,
   "id": "cc448e8a",
   "metadata": {},
   "outputs": [
    {
     "data": {
      "text/plain": [
       "['brand_label_encoder.pkl']"
      ]
     },
     "execution_count": 36,
     "metadata": {},
     "output_type": "execute_result"
    }
   ],
   "source": [
    "# label encoding \n",
    "\n",
    "from sklearn.preprocessing import LabelEncoder\n",
    "le = LabelEncoder()\n",
    "# Fit the label\n",
    "le.fit(df['Brand'])\n",
    "# Transform the 'Brand' column\n",
    "df['Brand'] = le.transform(df['Brand'])\n",
    "# Save the label encoder\n",
    "joblib.dump(le, 'brand_label_encoder.pkl')\n",
    "\n",
    "\n",
    "\n"
   ]
  },
  {
   "cell_type": "code",
   "execution_count": 37,
   "id": "394d7902",
   "metadata": {},
   "outputs": [
    {
     "data": {
      "text/html": [
       "<div>\n",
       "<style scoped>\n",
       "    .dataframe tbody tr th:only-of-type {\n",
       "        vertical-align: middle;\n",
       "    }\n",
       "\n",
       "    .dataframe tbody tr th {\n",
       "        vertical-align: top;\n",
       "    }\n",
       "\n",
       "    .dataframe thead th {\n",
       "        text-align: right;\n",
       "    }\n",
       "</style>\n",
       "<table border=\"1\" class=\"dataframe\">\n",
       "  <thead>\n",
       "    <tr style=\"text-align: right;\">\n",
       "      <th></th>\n",
       "      <th>Date</th>\n",
       "      <th>Product Name</th>\n",
       "      <th>Product Type</th>\n",
       "      <th>Brand</th>\n",
       "      <th>Gender</th>\n",
       "      <th>Category</th>\n",
       "      <th>Country</th>\n",
       "      <th>Quantity</th>\n",
       "      <th>Unit Price ($)</th>\n",
       "      <th>Amount ($)</th>\n",
       "      <th>Payment Mode</th>\n",
       "    </tr>\n",
       "  </thead>\n",
       "  <tbody>\n",
       "    <tr>\n",
       "      <th>0</th>\n",
       "      <td>2022-05-27</td>\n",
       "      <td>Fear of God Essentials Tee</td>\n",
       "      <td>T-shirt</td>\n",
       "      <td>1</td>\n",
       "      <td>Unisex</td>\n",
       "      <td>Limited Edition</td>\n",
       "      <td>Japan</td>\n",
       "      <td>5</td>\n",
       "      <td>141.82</td>\n",
       "      <td>709.10</td>\n",
       "      <td>Card</td>\n",
       "    </tr>\n",
       "    <tr>\n",
       "      <th>1</th>\n",
       "      <td>2022-08-22</td>\n",
       "      <td>Yeezy Boost 350</td>\n",
       "      <td>Sneakers</td>\n",
       "      <td>0</td>\n",
       "      <td>Unisex</td>\n",
       "      <td>Streetwear</td>\n",
       "      <td>USA</td>\n",
       "      <td>2</td>\n",
       "      <td>267.34</td>\n",
       "      <td>534.68</td>\n",
       "      <td>Cash on Delivery</td>\n",
       "    </tr>\n",
       "    <tr>\n",
       "      <th>2</th>\n",
       "      <td>2022-04-03</td>\n",
       "      <td>Nike Dunk Low</td>\n",
       "      <td>Sneakers</td>\n",
       "      <td>3</td>\n",
       "      <td>Women</td>\n",
       "      <td>Limited Edition</td>\n",
       "      <td>Germany</td>\n",
       "      <td>1</td>\n",
       "      <td>292.00</td>\n",
       "      <td>292.00</td>\n",
       "      <td>Cash on Delivery</td>\n",
       "    </tr>\n",
       "    <tr>\n",
       "      <th>3</th>\n",
       "      <td>2022-07-13</td>\n",
       "      <td>Nike Tech Fleece</td>\n",
       "      <td>Hoodie</td>\n",
       "      <td>3</td>\n",
       "      <td>Men</td>\n",
       "      <td>Limited Edition</td>\n",
       "      <td>USA</td>\n",
       "      <td>4</td>\n",
       "      <td>245.44</td>\n",
       "      <td>981.76</td>\n",
       "      <td>Cash on Delivery</td>\n",
       "    </tr>\n",
       "    <tr>\n",
       "      <th>4</th>\n",
       "      <td>2022-08-25</td>\n",
       "      <td>Jordan 1 High</td>\n",
       "      <td>Sneakers</td>\n",
       "      <td>3</td>\n",
       "      <td>Women</td>\n",
       "      <td>Casual</td>\n",
       "      <td>Australia</td>\n",
       "      <td>2</td>\n",
       "      <td>184.51</td>\n",
       "      <td>369.02</td>\n",
       "      <td>Cash on Delivery</td>\n",
       "    </tr>\n",
       "  </tbody>\n",
       "</table>\n",
       "</div>"
      ],
      "text/plain": [
       "        Date                Product Name Product Type  Brand  Gender  \\\n",
       "0 2022-05-27  Fear of God Essentials Tee      T-shirt      1  Unisex   \n",
       "1 2022-08-22             Yeezy Boost 350     Sneakers      0  Unisex   \n",
       "2 2022-04-03               Nike Dunk Low     Sneakers      3   Women   \n",
       "3 2022-07-13            Nike Tech Fleece       Hoodie      3     Men   \n",
       "4 2022-08-25               Jordan 1 High     Sneakers      3   Women   \n",
       "\n",
       "          Category    Country  Quantity  Unit Price ($)  Amount ($)  \\\n",
       "0  Limited Edition      Japan         5          141.82      709.10   \n",
       "1       Streetwear        USA         2          267.34      534.68   \n",
       "2  Limited Edition    Germany         1          292.00      292.00   \n",
       "3  Limited Edition        USA         4          245.44      981.76   \n",
       "4           Casual  Australia         2          184.51      369.02   \n",
       "\n",
       "       Payment Mode  \n",
       "0              Card  \n",
       "1  Cash on Delivery  \n",
       "2  Cash on Delivery  \n",
       "3  Cash on Delivery  \n",
       "4  Cash on Delivery  "
      ]
     },
     "execution_count": 37,
     "metadata": {},
     "output_type": "execute_result"
    }
   ],
   "source": [
    "df.head()"
   ]
  },
  {
   "cell_type": "code",
   "execution_count": 38,
   "id": "324e4dd9",
   "metadata": {},
   "outputs": [
    {
     "data": {
      "text/plain": [
       "<Figure size 1000x600 with 0 Axes>"
      ]
     },
     "metadata": {},
     "output_type": "display_data"
    },
    {
     "data": {
      "image/png": "[encoded data removed]",
      "text/plain": [
       "<Figure size 800x550 with 1 Axes>"
      ]
     },
     "metadata": {},
     "output_type": "display_data"
    }
   ],
   "source": [
    "from xgboost import plot_importance\n",
    "plt.figure(figsize=(10, 6))\n",
    "plot_importance(best_random, importance_type='weight', max_num_features=10)\n",
    "plt.show()\n",
    "\n"
   ]
  },
  {
   "cell_type": "code",
   "execution_count": null,
   "id": "9c3ab0bb",
   "metadata": {},
   "outputs": [],
   "source": []
  },
  {
   "cell_type": "code",
   "execution_count": null,
   "id": "c8b29bfc",
   "metadata": {},
   "outputs": [],
   "source": []
  }
 ],
 "metadata": {
  "kernelspec": {
   "display_name": "pycaret-env",
   "language": "python",
   "name": "python3"
  },
  "language_info": {
   "codemirror_mode": {
    "name": "ipython",
    "version": 3
   },
   "file_extension": ".py",
   "mimetype": "text/x-python",
   "name": "python",
   "nbconvert_exporter": "python",
   "pygments_lexer": "ipython3",
   "version": "3.10.18"
  }
 },
 "nbformat": 4,
 "nbformat_minor": 5
}
